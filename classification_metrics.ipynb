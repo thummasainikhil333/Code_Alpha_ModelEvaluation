{
 "cells": [
  {
   "attachments": {},
   "cell_type": "markdown",
   "metadata": {},
   "source": [
    "<h1 align='center'>  Performance Metrics for Classification Problems </h1>\n",
    "\n",
    "In this note book, I am going to illsutrate how we can evaluate the ML models deployed for classification task using different kind of metrics.\n",
    "\n",
    "For illsutareting purpose I have collected the data from kaggle. I will be doing all the analysis over them only. I have attach the link for each dataset, you can also download the same.\n",
    "\n",
    "\n",
    "For the implemetations of these metrics, I am using following tools and frameworks:\n",
    "- Python - as a primary language\n",
    "- Pandas - as an analytical engine for processing the data\n",
    "- numpy - for computation using numpy arrays\n",
    "- matplotlib - for plotting the figures\n",
    "- sklearn - for implememting the metrics\n",
    "- seaborn - for graph plotting \n",
    "\n",
    "Note that I will be implementing all the metrices from scratch.\n",
    "\n"
   ]
  },
  {
   "attachments": {},
   "cell_type": "markdown",
   "metadata": {},
   "source": [
    "## Contents\n",
    "\n",
    "1. [Imports](#Imports)\n",
    "1. [Load the Data](#Load-the-Data)\n",
    "1. [Basic Exploratory Data Analysis (EDA)](#Basic-Exploratory-Data-Analysis-(EDA))\n",
    "1. [Features Selection](#Feature-Selection)\n",
    "1. [Features Extraction](#Feature-Extraction)\n",
    "1. [Modeling](#modeling)\n",
    "    1. [Train/Test SPlits](#traintest-split)\n",
    "    1. [Model Selection](#model-selection)\n",
    "    1. [Model Training](#model-training)\n",
    "1. [Metrics For Model Evaluation](#metrics-for-model-evaluation)\n",
    "    1. [Confusion matrix](#Confusion-matrix)\n",
    "    1. [Accuracy](#Accuracy)\n",
    "    1. [Precision](#Precision)\n",
    "    1. [Recall](#Recall)\n",
    "    1. [F scores](#F-scores)\n",
    "    1. [Macro-averaged F scores](#Macro-averaged-F-scores)\n",
    "    1. [Weighted F scores](#Weighted-F-scores)\n",
    "    1. [Micro-averaged F scores](#Micro-averaged-F-scores)\n",
    "    1. [Precision–recall curves](#Precision–recall-curves)\n",
    "    1. [Average precision](#Average-precision)\n",
    "    1. [Receiver Operating Characteristic (ROC) curve](#Receiver-Operating-Characteristic-(ROC)-curve)\n",
    "    "
   ]
  },
  {
   "attachments": {},
   "cell_type": "markdown",
   "metadata": {},
   "source": [
    "Let's write some generic code which will be used throughout this notebook.\n"
   ]
  },
  {
   "attachments": {},
   "cell_type": "markdown",
   "metadata": {},
   "source": [
    "## Imports\n"
   ]
  },
  {
   "cell_type": "code",
   "execution_count": 10,
   "metadata": {},
   "outputs": [],
   "source": [
    "import pandas as pd\n",
    "import numpy as np\n",
    "import matplotlib.pyplot as plt\n",
    "import seaborn\n",
    "import sklearn"
   ]
  },
  {
   "attachments": {},
   "cell_type": "markdown",
   "metadata": {},
   "source": [
    "## Data Loader\n"
   ]
  },
  {
   "cell_type": "code",
   "execution_count": 11,
   "metadata": {},
   "outputs": [],
   "source": [
    "#function for loading a csv file from specified path\n",
    "\n",
    "def data_loader(path):\n",
    "    \n",
    "    #use pandas to load the data from path\n",
    "    df = pd.read_csv(path)\n",
    "    \n",
    "    return df"
   ]
  },
  {
   "attachments": {},
   "cell_type": "markdown",
   "metadata": {},
   "source": [
    "# Classfication Problem\n",
    "\n",
    "### Bank Customer Churn Prediction\n",
    "\n",
    "* Problem Statement : Given the attributes of members and the associated credit score build a predictive model to forcast if a member will churn or not in future.\n",
    "\n",
    "* About Data : The Data is from kaggle and same can be downloaded from <a href=\"https://www.kaggle.com/code/kmalit/bank-customer-churn-prediction\">here</a>. The label column is namesd as `Exited` and its values need to be forcasted using our models.\n",
    "\n",
    "* Algorithms to be used : Since this is a classification problem I will be using Logistic regression, Support Vector Machine(SVM), Decision Tree, Random Forest Classifier and XgBoost Classifier and will evaluate performance for each algorithms agains many performance metrics.\n",
    "\n",
    "* Evaluations metrics : Since this is a binary class classification problem. I will be using accuracy score, precision, recall, f1-score, log loss and AUC-ROC curve."
   ]
  },
  {
   "attachments": {},
   "cell_type": "markdown",
   "metadata": {},
   "source": [
    "`Always look at your data`\n",
    "## Load the data"
   ]
  },
  {
   "attachments": {},
   "cell_type": "markdown",
   "metadata": {},
   "source": [
    "I have downloaded the data from above link and have stored the same in my local file system. "
   ]
  },
  {
   "cell_type": "code",
   "execution_count": 12,
   "metadata": {},
   "outputs": [
    {
     "data": {
      "text/html": [
       "<div>\n",
       "<style scoped>\n",
       "    .dataframe tbody tr th:only-of-type {\n",
       "        vertical-align: middle;\n",
       "    }\n",
       "\n",
       "    .dataframe tbody tr th {\n",
       "        vertical-align: top;\n",
       "    }\n",
       "\n",
       "    .dataframe thead th {\n",
       "        text-align: right;\n",
       "    }\n",
       "</style>\n",
       "<table border=\"1\" class=\"dataframe\">\n",
       "  <thead>\n",
       "    <tr style=\"text-align: right;\">\n",
       "      <th></th>\n",
       "      <th>RowNumber</th>\n",
       "      <th>CustomerId</th>\n",
       "      <th>Surname</th>\n",
       "      <th>CreditScore</th>\n",
       "      <th>Geography</th>\n",
       "      <th>Gender</th>\n",
       "      <th>Age</th>\n",
       "      <th>Tenure</th>\n",
       "      <th>Balance</th>\n",
       "      <th>NumOfProducts</th>\n",
       "      <th>HasCrCard</th>\n",
       "      <th>IsActiveMember</th>\n",
       "      <th>EstimatedSalary</th>\n",
       "      <th>Exited</th>\n",
       "    </tr>\n",
       "  </thead>\n",
       "  <tbody>\n",
       "    <tr>\n",
       "      <th>0</th>\n",
       "      <td>1</td>\n",
       "      <td>15634602</td>\n",
       "      <td>Hargrave</td>\n",
       "      <td>619</td>\n",
       "      <td>France</td>\n",
       "      <td>Female</td>\n",
       "      <td>42</td>\n",
       "      <td>2</td>\n",
       "      <td>0.0</td>\n",
       "      <td>1</td>\n",
       "      <td>1</td>\n",
       "      <td>1</td>\n",
       "      <td>101348.88</td>\n",
       "      <td>1</td>\n",
       "    </tr>\n",
       "  </tbody>\n",
       "</table>\n",
       "</div>"
      ],
      "text/plain": [
       "   RowNumber  CustomerId   Surname  CreditScore Geography  Gender  Age  \\\n",
       "0          1    15634602  Hargrave          619    France  Female   42   \n",
       "\n",
       "   Tenure  Balance  NumOfProducts  HasCrCard  IsActiveMember  EstimatedSalary  \\\n",
       "0       2      0.0              1          1               1        101348.88   \n",
       "\n",
       "   Exited  \n",
       "0       1  "
      ]
     },
     "execution_count": 12,
     "metadata": {},
     "output_type": "execute_result"
    }
   ],
   "source": [
    "#churn df contains all the data\n",
    "path= \"/Users/ajitkumarsingh/Desktop/Data-Science-Interview-Questions/performance-metrics/data/Churn_Modelling.csv\"\n",
    "churn_df = data_loader(path)\n",
    "\n",
    "# show first row\n",
    "churn_df.head(1)"
   ]
  },
  {
   "attachments": {},
   "cell_type": "markdown",
   "metadata": {},
   "source": [
    "### Basic Exploratory Data Analysis (EDA)"
   ]
  },
  {
   "cell_type": "code",
   "execution_count": 14,
   "metadata": {},
   "outputs": [
    {
     "name": "stdout",
     "output_type": "stream",
     "text": [
      "columns name : RowNumber, CustomerId, Surname, CreditScore, Geography, Gender, Age, Tenure, Balance, NumOfProducts, HasCrCard, IsActiveMember, EstimatedSalary, Exited\n",
      "\n",
      "total number of columns : 14\n",
      "\n",
      "Number of rows in data : 10000\n",
      "\n"
     ]
    }
   ],
   "source": [
    "#columns name in churn df\n",
    "print(f\"columns name : {', '.join(churn_df.columns.tolist())}\\n\")\n",
    "\n",
    "#total number of columns\n",
    "print(f\"total number of columns : {len(churn_df.columns)}\\n\")\n",
    "\n",
    "#total count of the data\n",
    "print(f\"Number of rows in data : {len(churn_df)}\\n\")\n",
    "\n"
   ]
  },
  {
   "attachments": {},
   "cell_type": "markdown",
   "metadata": {},
   "source": [
    "We have 14 attributes and 10000 rows in the churn data."
   ]
  },
  {
   "cell_type": "code",
   "execution_count": 15,
   "metadata": {},
   "outputs": [
    {
     "data": {
      "text/plain": [
       "RowNumber          0\n",
       "CustomerId         0\n",
       "Surname            0\n",
       "CreditScore        0\n",
       "Geography          0\n",
       "Gender             0\n",
       "Age                0\n",
       "Tenure             0\n",
       "Balance            0\n",
       "NumOfProducts      0\n",
       "HasCrCard          0\n",
       "IsActiveMember     0\n",
       "EstimatedSalary    0\n",
       "Exited             0\n",
       "dtype: int64"
      ]
     },
     "execution_count": 15,
     "metadata": {},
     "output_type": "execute_result"
    }
   ],
   "source": [
    "#number of nulls per attributes\n",
    "churn_df.isnull().sum()"
   ]
  },
  {
   "attachments": {},
   "cell_type": "markdown",
   "metadata": {},
   "source": [
    "No Null values are present in the data for any attribute. So that is good thing like we don't have to deal with null values."
   ]
  },
  {
   "cell_type": "code",
   "execution_count": 16,
   "metadata": {},
   "outputs": [
    {
     "data": {
      "text/plain": [
       "RowNumber          10000\n",
       "CustomerId         10000\n",
       "Surname             2932\n",
       "CreditScore          460\n",
       "Geography              3\n",
       "Gender                 2\n",
       "Age                   70\n",
       "Tenure                11\n",
       "Balance             6382\n",
       "NumOfProducts          4\n",
       "HasCrCard              2\n",
       "IsActiveMember         2\n",
       "EstimatedSalary     9999\n",
       "Exited                 2\n",
       "dtype: int64"
      ]
     },
     "execution_count": 16,
     "metadata": {},
     "output_type": "execute_result"
    }
   ],
   "source": [
    "# number of unique values\n",
    "churn_df.nunique()"
   ]
  },
  {
   "attachments": {},
   "cell_type": "markdown",
   "metadata": {},
   "source": [
    "Note that the `RowNumber` and `CustomerId` seems like primary keys for this data. Because all the values in these columns seem unique or have no duplicates."
   ]
  },
  {
   "cell_type": "code",
   "execution_count": 17,
   "metadata": {},
   "outputs": [
    {
     "data": {
      "text/plain": [
       "RowNumber            int64\n",
       "CustomerId           int64\n",
       "Surname             object\n",
       "CreditScore          int64\n",
       "Geography           object\n",
       "Gender              object\n",
       "Age                  int64\n",
       "Tenure               int64\n",
       "Balance            float64\n",
       "NumOfProducts        int64\n",
       "HasCrCard            int64\n",
       "IsActiveMember       int64\n",
       "EstimatedSalary    float64\n",
       "Exited               int64\n",
       "dtype: object"
      ]
     },
     "execution_count": 17,
     "metadata": {},
     "output_type": "execute_result"
    }
   ],
   "source": [
    "# data types\n",
    "churn_df.dtypes"
   ]
  },
  {
   "attachments": {},
   "cell_type": "markdown",
   "metadata": {},
   "source": [
    "### Feature Selection\n",
    "\n",
    "For time being I am manually selecting the features. If we look at the data and problem statement that we have, the following attributes seems redundant `RowNumber`, `CustomerId`, `Surname`. We can remove these columns from our analysis because they are not providing any value add and will unnecessary complicate the analysis"
   ]
  },
  {
   "cell_type": "code",
   "execution_count": 18,
   "metadata": {},
   "outputs": [
    {
     "data": {
      "text/html": [
       "<div>\n",
       "<style scoped>\n",
       "    .dataframe tbody tr th:only-of-type {\n",
       "        vertical-align: middle;\n",
       "    }\n",
       "\n",
       "    .dataframe tbody tr th {\n",
       "        vertical-align: top;\n",
       "    }\n",
       "\n",
       "    .dataframe thead th {\n",
       "        text-align: right;\n",
       "    }\n",
       "</style>\n",
       "<table border=\"1\" class=\"dataframe\">\n",
       "  <thead>\n",
       "    <tr style=\"text-align: right;\">\n",
       "      <th></th>\n",
       "      <th>CreditScore</th>\n",
       "      <th>Geography</th>\n",
       "      <th>Gender</th>\n",
       "      <th>Age</th>\n",
       "      <th>Tenure</th>\n",
       "      <th>Balance</th>\n",
       "      <th>NumOfProducts</th>\n",
       "      <th>HasCrCard</th>\n",
       "      <th>IsActiveMember</th>\n",
       "      <th>EstimatedSalary</th>\n",
       "      <th>Exited</th>\n",
       "    </tr>\n",
       "  </thead>\n",
       "  <tbody>\n",
       "    <tr>\n",
       "      <th>0</th>\n",
       "      <td>619</td>\n",
       "      <td>France</td>\n",
       "      <td>Female</td>\n",
       "      <td>42</td>\n",
       "      <td>2</td>\n",
       "      <td>0.0</td>\n",
       "      <td>1</td>\n",
       "      <td>1</td>\n",
       "      <td>1</td>\n",
       "      <td>101348.88</td>\n",
       "      <td>1</td>\n",
       "    </tr>\n",
       "  </tbody>\n",
       "</table>\n",
       "</div>"
      ],
      "text/plain": [
       "   CreditScore Geography  Gender  Age  Tenure  Balance  NumOfProducts  \\\n",
       "0          619    France  Female   42       2      0.0              1   \n",
       "\n",
       "   HasCrCard  IsActiveMember  EstimatedSalary  Exited  \n",
       "0          1               1        101348.88       1  "
      ]
     },
     "execution_count": 18,
     "metadata": {},
     "output_type": "execute_result"
    }
   ],
   "source": [
    "redundant_features = [\"RowNumber\", \"CustomerId\", \"Surname\"]\n",
    "\n",
    "#drop redundant features\n",
    "churn_df_final = churn_df.drop(redundant_features, axis=1)\n",
    "\n",
    "#show 1 row\n",
    "churn_df_final.head(1)"
   ]
  },
  {
   "attachments": {},
   "cell_type": "markdown",
   "metadata": {},
   "source": [
    "### Features Extraction\n",
    "\n",
    "Most of machine learning algorithms expect input as some numbers and they can not deal with attributes of the non numeric type. \n",
    "\n",
    "We can transform those attrbutes using some techniques such as `Label Encoding` or `One Hot Encoding`."
   ]
  },
  {
   "cell_type": "code",
   "execution_count": 19,
   "metadata": {},
   "outputs": [
    {
     "name": "stdout",
     "output_type": "stream",
     "text": [
      "non-numeric cols : Index(['Geography', 'Gender'], dtype='object')\n"
     ]
    }
   ],
   "source": [
    "#print the columns that are non-numeric\n",
    "non_numeric_df = churn_df_final.select_dtypes(exclude=['int','float'])\n",
    "print(f\"non-numeric cols : {non_numeric_df.columns}\")"
   ]
  },
  {
   "attachments": {},
   "cell_type": "markdown",
   "metadata": {},
   "source": [
    "We have two categorical columns namely `Geography` and `Gender`"
   ]
  },
  {
   "cell_type": "code",
   "execution_count": 20,
   "metadata": {},
   "outputs": [
    {
     "data": {
      "text/plain": [
       "Geography    3\n",
       "Gender       2\n",
       "dtype: int64"
      ]
     },
     "execution_count": 20,
     "metadata": {},
     "output_type": "execute_result"
    }
   ],
   "source": [
    "#number of unique values\n",
    "non_numeric_df.nunique()"
   ]
  },
  {
   "cell_type": "code",
   "execution_count": 21,
   "metadata": {},
   "outputs": [
    {
     "data": {
      "text/plain": [
       "Geography  Gender\n",
       "France     Male      2753\n",
       "           Female    2261\n",
       "Spain      Male      1388\n",
       "Germany    Male      1316\n",
       "           Female    1193\n",
       "Spain      Female    1089\n",
       "dtype: int64"
      ]
     },
     "execution_count": 21,
     "metadata": {},
     "output_type": "execute_result"
    }
   ],
   "source": [
    "#value frequncy of categorical columns\n",
    "non_numeric_df.value_counts()"
   ]
  },
  {
   "attachments": {},
   "cell_type": "markdown",
   "metadata": {},
   "source": [
    "We have three ditsinct values namely `France`, `Spain` and `Germany` in `Geography` column and, two distinct values `Male` and `Female` in `Gender` column. We need to encode these variables with some numeric values then only we can feed the models."
   ]
  },
  {
   "cell_type": "code",
   "execution_count": 22,
   "metadata": {},
   "outputs": [],
   "source": [
    "#encode Gender column\n",
    "#replace Male with 1 and Female with 0\n",
    "\n",
    "gender_dict = {'Male':1,'Female':0}\n",
    "churn_df_final['Gender'] = churn_df_final['Gender'].replace(gender_dict)"
   ]
  },
  {
   "cell_type": "code",
   "execution_count": 23,
   "metadata": {},
   "outputs": [],
   "source": [
    "#encode Geography column using one hot encoding\n",
    "#this will create some new columns (number of new columns will be equal to number of unique values in the data)\n",
    "final_df_encoded = pd.get_dummies(churn_df_final,columns=['Geography'])"
   ]
  },
  {
   "attachments": {},
   "cell_type": "markdown",
   "metadata": {},
   "source": [
    "Now we have encoded both the categorical columns `Gender` and `Geography` using `lable encoding` and `one-hot encoding` repectively. The `final_df_encoded` now have all the attributes as numeric data type. \n"
   ]
  },
  {
   "cell_type": "code",
   "execution_count": 24,
   "metadata": {},
   "outputs": [
    {
     "data": {
      "text/plain": [
       "CreditScore            int64\n",
       "Gender                 int64\n",
       "Age                    int64\n",
       "Tenure                 int64\n",
       "Balance              float64\n",
       "NumOfProducts          int64\n",
       "HasCrCard              int64\n",
       "IsActiveMember         int64\n",
       "EstimatedSalary      float64\n",
       "Exited                 int64\n",
       "Geography_France       uint8\n",
       "Geography_Germany      uint8\n",
       "Geography_Spain        uint8\n",
       "dtype: object"
      ]
     },
     "execution_count": 24,
     "metadata": {},
     "output_type": "execute_result"
    }
   ],
   "source": [
    "#data types of final df\n",
    "final_df_encoded.dtypes"
   ]
  },
  {
   "attachments": {},
   "cell_type": "markdown",
   "metadata": {},
   "source": [
    "## Modeling\n",
    "\n",
    "### Train/Test Split\n",
    "\n",
    "For evaluating a model, we need some data to test it on, once training part is done. We usually split the data into two parts i.e train and test. \n",
    "On train data we update the models parameters and on test data we see how the trained model is performing. \n",
    "\n",
    "For spliting the data, I am using `train_test_split` function of module `sklearn.model_selection`. Also we need to segregate the label from the data.\n"
   ]
  },
  {
   "cell_type": "code",
   "execution_count": 25,
   "metadata": {},
   "outputs": [
    {
     "name": "stdout",
     "output_type": "stream",
     "text": [
      "Total count : 10000\n",
      "\n",
      "Train Data count : 8000\n",
      "\n",
      "Test Data count : 2000\n",
      "\n",
      "Train Labels count : 8000\n",
      "\n",
      "Test Labels count : 2000\n",
      "\n"
     ]
    }
   ],
   "source": [
    "from sklearn.model_selection import train_test_split\n",
    "\n",
    "#split the data into test and train in 4:1\n",
    "\n",
    "train_data, test_data, train_labels, test_labels = train_test_split(final_df_encoded.drop(['Exited'], axis=1), final_df_encoded['Exited'], test_size=0.2, random_state=42)\n",
    "\n",
    "#count after split\n",
    "print(f\"Total count : {len(final_df_encoded)}\\n\")\n",
    "print(f\"Train Data count : {len(train_data)}\\n\")\n",
    "print(f\"Test Data count : {len(test_data)}\\n\")\n",
    "print(f\"Train Labels count : {len(train_labels)}\\n\")\n",
    "print(f\"Test Labels count : {len(test_labels)}\\n\")\n",
    "\n",
    "# number of rows and labels should match\n",
    "assert len(train_data)==len(train_labels) \n",
    "assert len(test_data)==len(test_labels)\n"
   ]
  },
  {
   "attachments": {},
   "cell_type": "markdown",
   "metadata": {},
   "source": [
    "We have stored train and test data in `train_data`, `test_data` and train and test labels in `train_labels`, `test_labels`. I will be using them during training and testing time accordingly."
   ]
  },
  {
   "attachments": {},
   "cell_type": "markdown",
   "metadata": {},
   "source": [
    "### Model Selection\n",
    "\n",
    "We have numerous models out there to solve same type of poblems. But the interesting part is like we don't know which model will be best fitting our dataset and perform well on test dataset. We need to make choice here and to do that we need to evaluate these models one by one using some performance metrics.\n",
    "\n",
    "I will be training following models and evaluating their performance on test data\n",
    "\n",
    "- Logistic Regressor\n",
    "- Support Vector Machine(SVM) Classifier\n",
    "- RandomForest Classifier\n",
    "- Neighrest Neighbour Classifier\n",
    "\n",
    "Here, I will be using `sklearn` module of `scikit-learn` library to implement the above mentioned models."
   ]
  },
  {
   "cell_type": "code",
   "execution_count": 26,
   "metadata": {},
   "outputs": [],
   "source": [
    "#import above models\n",
    "from sklearn.linear_model import LogisticRegression\n",
    "from sklearn.ensemble import RandomForestClassifier\n",
    "from sklearn.neighbors import KNeighborsClassifier\n",
    "from sklearn.svm import SVC"
   ]
  },
  {
   "cell_type": "code",
   "execution_count": 27,
   "metadata": {},
   "outputs": [],
   "source": [
    "#create a list that contains one instances of each model type\n",
    "\n",
    "model_instances = {\n",
    "          'logistic_regressor':LogisticRegression(),\n",
    "          'random_forest': RandomForestClassifier(), \n",
    "          'knn':KNeighborsClassifier(), \n",
    "          'svm':SVC()\n",
    "          }\n"
   ]
  },
  {
   "attachments": {},
   "cell_type": "markdown",
   "metadata": {},
   "source": [
    "### Model Training\n",
    "\n",
    "In the above step we have created instances of each model and stored in `model_instances` dict type variable. Now we need to train these instances by feeding the train distribution."
   ]
  },
  {
   "cell_type": "code",
   "execution_count": 28,
   "metadata": {},
   "outputs": [],
   "source": [
    "#train the models on training set and save the trained model for evaluation\n",
    "\n",
    "for model_name, model in model_instances.items():\n",
    "\n",
    "    #fit the model with train_data and train_labels\n",
    "    model.fit(train_data,train_labels)\n",
    "    \n",
    "    #save the trained model\n",
    "    model_instances[model_name] = model\n",
    "    "
   ]
  },
  {
   "attachments": {},
   "cell_type": "markdown",
   "metadata": {},
   "source": [
    "### Metrics For Model Evaluation\n",
    "\n",
    "Now we have trained our models and they are ready to make predictions over test dataset. To make sure the model is predicting meaningfull values not random output we need some metrics to evaluate the output. This is where performance metrics come into picture. \n",
    "\n",
    "Let's implement some of the most widely used evaluation metrics for classification problems from scratch."
   ]
  },
  {
   "attachments": {},
   "cell_type": "markdown",
   "metadata": {},
   "source": [
    "#### Performance Metrics Implementation"
   ]
  },
  {
   "attachments": {},
   "cell_type": "markdown",
   "metadata": {},
   "source": [
    "##### Confusion Matrix\n",
    "\n",
    "This a `2D` matrix of size `n*n` where n is number of distinct tables we have. It stores information about the actual lable and corresponding predicted values. \n",
    "\n",
    "`ex1 = `\n",
    "<table>\n",
    "<tr>\n",
    "<th></th>\n",
    "<th></th>\n",
    "<th colspan=3 style=\"text-align:center\">predicted</th>\n",
    "</tr>\n",
    "<tr>\n",
    "<th></th>\n",
    "<th></th>\n",
    "<th>pos</th>\n",
    "<th>neg</th>\n",
    "<th>neutral</th>\n",
    "</tr>\n",
    "<tr>\n",
    "<th rowspan=3>gold</th>\n",
    "<th>pos</th>\n",
    "<td>15</td>\n",
    "<td>10</td>\n",
    "<td>100</td>\n",
    "</tr>\n",
    "<tr>\n",
    "<th>neg</th>\n",
    "<td>10</td>\n",
    "<td>15</td>\n",
    "<td>10</td>\n",
    "</tr>\n",
    "<tr>\n",
    "<th>neutral</th>\n",
    "<td>10</td>\n",
    "<td>100</td>\n",
    "<td>1000</td>\n",
    "</tr>\n",
    "</table>\n",
    "\n",
    "For classifiers that predict real values (scores, probabilities), it is important to remember that __a threshold was imposed to create these categorical predictions__. \n",
    "\n",
    "The position of this threshold can have a large impact on the overall assessment that uses the confusion matrix as an input. The default is to choose the class with the highest probability. This is so deeply ingrained that it is often not even mentioned. However, it might be inappropriate:\n",
    "\n",
    "  1. We might care about the full distribution.\n",
    "  1. Where the important class is very small relative to the others, any significant amount of positive probability for it might be important.\n",
    "\n",
    "Metrics like [average precision](#Average-precision) explore this threshold as part of their evaluation procedure. \n",
    "\n",
    "We can use this matrix to derive various scores metrics like `accuracy score`, `precision score`, `recall score` and `f-1 score`.\n",
    "\n",
    "Note that in the below implementation of confusion matrix\n",
    "\n",
    " - `CM(i, j)` => Number of instances where actual label was `i` but the predicted label was `j`\n",
    "\n",
    " - `CM(i, i)` => Number of instances where actual label was `i` and the predicted label was also `i`"
   ]
  },
  {
   "cell_type": "code",
   "execution_count": 121,
   "metadata": {},
   "outputs": [],
   "source": [
    "\"\"\"\n",
    "function to get n*n confusion matrics\n",
    "\n",
    "Input :\n",
    "\n",
    "    :param y_pred - a list of predicated lable from the model\n",
    "    :param y_true - a list of actual labels\n",
    "    :param y_uniq - unique number of labels in the data\n",
    "    :return: Confusion matrix as a 2D numpy array\n",
    "\n",
    "\"\"\"\n",
    "\n",
    "def confusion_matrix(y_true, y_pred, classes):\n",
    "\n",
    "    #metrics for storing TP, TN, FP and FN\n",
    "    \n",
    "    #note that here I am considering the labels start with 0 to n\n",
    "    n_label = len(classes)\n",
    "\n",
    "    conf_mat = np.zeros((n_label, n_label))\n",
    "\n",
    "    for i in range(len(y_true)):\n",
    "\n",
    "        y_true_i = y_true[i]\n",
    "        y_pred_i = y_pred[i]\n",
    "        \n",
    "        true_indx = classes.index(y_true_i)\n",
    "        pred_index =  classes.index(y_pred_i)\n",
    "        \n",
    "        conf_mat[true_indx][pred_index] += 1\n",
    "\n",
    "    return conf_mat\n"
   ]
  },
  {
   "attachments": {},
   "cell_type": "markdown",
   "metadata": {},
   "source": [
    "##### Accuracy Score\n",
    "\n",
    "This score signifies the portion of true predictions among total cases examined. A higher accuracy score suggests that the model is making more correct predictions, while a lower accuracy score indicates that the model may be making more mistakes. It is mathematically expressed as:\n",
    "\n",
    "$$\n",
    "\n",
    "accuracy\\ score = \\frac{{TP + TN}}{{TP + FP + FN + TN}}\n",
    "\n",
    "$$\n",
    "Where:\n",
    "\n",
    "- `TP (True Positives)`  = Number of scenarios where the model's predicted labels match with the positive labels\n",
    "\n",
    "- `FP (False Positives)` = Number of scenarios where the actual label is negative, but the model predicts it as positive(Type I Error)\n",
    "\n",
    "- `FN (False Negatives)` = Number of scenarios where the actual label is positive, but the model predicts it as negative(Type I Error)\n",
    "\n",
    "- `TN (True Negative)` = Number of instances where both the actual label and the model's prediction are negative\n",
    "\n",
    "**Accuracy bounds**\n",
    "\n",
    "[0, 1], with 0 the worst and 1 the best.\n",
    "\n",
    "**Value encoded by accuracy**\n",
    "\n",
    "Accuracy seems to directly encode a core value we have for classifiers – how often they are correct. In addition, the accuracy of a classifier on a test set will be negatively correlated with the [negative log (logistic, cross-entropy) loss](http://scikit-learn.org/stable/modules/generated/sklearn.metrics.log_loss.html#sklearn.metrics.log_loss), which is a common loss for classifiers. In this sense, these classifiers are optimizing for accuracy.\n",
    "\n",
    "\n",
    "In machine learning problems, the definition of `positive` and `negative` can vary depending on the specific problem and the context. In the `Bank Customer Churn Prediction` problem, the variable of interest is whether a customer churns (leaves) or not. in the context of this problem, `positive` refers to customers who churned, and `negative` refers to customers who did not churn. \n",
    "\n",
    "It's important to keep this definition in mind when interpreting performance metrics such as `accuracy`, `precision`, `recall`, and `F1-score`, as they are calculated based on the definitions of `positive` and `negative` classes in the specific problem context."
   ]
  },
  {
   "cell_type": "code",
   "execution_count": 1,
   "metadata": {},
   "outputs": [],
   "source": [
    "\n",
    "\"\"\"\n",
    "    function to calculate accuracy score of each class using confusion matrix\n",
    "\n",
    "    :param a 2D confusion matrix\n",
    "\n",
    "    :return a list containing accuracy score for each class\n",
    "\n",
    "\"\"\"\n",
    "\n",
    "\n",
    "def accuracy_score(confusion_matrix):\n",
    "\n",
    "    n_classes = confusion_matrix.shape[0]\n",
    "    accuracy_score_list = []\n",
    "\n",
    "    for i in range(n_classes):\n",
    "\n",
    "        tp = confusion_matrix[i][i]\n",
    "        fp = np.sum(confusion_matrix[i][:]) - tp\n",
    "        fn = np.sum(confusion_matrix[:][i]) - tp \n",
    "        tn = np.sum(confusion_matrix) - tp - fp- fn\n",
    "\n",
    "        accuracy_score_list.append(tp/(tp+fn+fp+tn) if tp+fn+fp+tn!=0 else 0)\n",
    "\n",
    "    return accuracy_score_list"
   ]
  },
  {
   "attachments": {},
   "cell_type": "markdown",
   "metadata": {},
   "source": [
    "Cautions / Limitations \n",
    "\n",
    "- It's important to note that accuracy score provides an `overall evaluation` of the model's performance across all classes, but it may be deceptive in cases where the label distribution is skewed or imbalanced. In such cases, the accuracy score may be high due to the majority class dominating the predictions, while the `minority class` may be misclassified.\n",
    "\n",
    "- To address this issue, it's recommended to use other performance metrics along with accuracy score, such as `precision`, `recall`, `F1-score`, or area under the Receiver Operating Characteristic (ROC) curve. These metrics provide insights on the model's performance at a class-level, allowing for a more comprehensive evaluation of the model's predictive accuracy, especially in `imbalanced` datasets.\n",
    "\n",
    "\n",
    "\n"
   ]
  },
  {
   "attachments": {},
   "cell_type": "markdown",
   "metadata": {},
   "source": [
    "#### Related to accuracy\n",
    "\n",
    "* Accuracy is inversely proportional to the [negative log (logistic, cross-entropy) loss](http://scikit-learn.org/stable/modules/generated/sklearn.metrics.log_loss.html#sklearn.metrics.log_loss) that many classifiers optimize:\n",
    "\n",
    "$$\n",
    "-\\frac{1}{N} \\sum_{i=1}^{N} \\sum_{k=1}^{K} y_{i,k} \\log(p_{i,k})\n",
    "$$\n",
    "\n",
    "* Accuracy can be related in a similar way to [KL divergence](https://en.wikipedia.org/wiki/Kullback–Leibler_divergence):    \n",
    "$$\n",
    "D_{\\text{KL}}(y \\parallel p) = \n",
    "    \\sum _{k=1}^{K} y_{k} \\log\\left(\\frac {y_{k}}{p_{k}}\\right)\n",
    "$$\n",
    "  Where $y$ is a \"one-hot vector\" (a classification label) with $1$ at position $k$, this reduces to \n",
    "  $$\n",
    "  \\log\\left(\\frac{1}{p_{k}}\\right) = -\\log(p_{k})\n",
    "  $$\n",
    "  Thus, KL-divergence is an analogue of accuracy for soft labels."
   ]
  },
  {
   "attachments": {},
   "cell_type": "markdown",
   "metadata": {},
   "source": [
    "##### Precision Score\n",
    "\n",
    "It is the portion of true positive class among predicted postive classes. It is preferable choice when you want to be very sure of your predictions.\n",
    "\n",
    "It can be expressed as :\n",
    "\n",
    "$$\n",
    "\n",
    "precision\\ score = \\frac{{TP }}{{TP + FP}}\n",
    "\n",
    " $$ \n",
    "\n",
    " [Precision](http://scikit-learn.org/stable/modules/generated/sklearn.metrics.precision_score.html#sklearn.metrics.precision_score) is the sum of the correct predictions divided by the sum of all guesses. This is a per-class notion; in our confusion matrices, it's the diagonal values divided by the column sums:\n",
    "\n",
    "**Precision bounds**\n",
    "\n",
    "[0, 1], with 0 the worst and 1 the best. (Caveat: undefined values resulting from dividing by 0 need to be mapped to 0.)\n",
    "\n",
    "**Value encoded by precision**\n",
    "\n",
    "Precision encodes a _conservative_ value in penalizing incorrect guesses.\n",
    "\n",
    "\n"
   ]
  },
  {
   "cell_type": "code",
   "execution_count": 201,
   "metadata": {},
   "outputs": [],
   "source": [
    "\"\"\"\n",
    "    function to calculate precision score of each class using confusion matrix\n",
    "\n",
    "    :param a 2D confusion matrix\n",
    "\n",
    "    :return a list containing precision for each class\n",
    "\n",
    "\"\"\"\n",
    "\n",
    "\n",
    "def precision_score(confusion_matrix):\n",
    "\n",
    "    n_classes = confusion_matrix.shape[0]\n",
    "    precision_score_list = []\n",
    "    \n",
    "    for i in range(n_classes):\n",
    "\n",
    "        tp = confusion_matrix[i][i]\n",
    "        fp = np.sum(confusion_matrix, axis=0)[i] - tp\n",
    "        precision_score_list.append(tp/(tp+fp) if tp+fp!=0 else 0)\n",
    "\n",
    "    return precision_score_list\n",
    "\n",
    "     "
   ]
  },
  {
   "attachments": {},
   "cell_type": "markdown",
   "metadata": {},
   "source": [
    "##### Weaknesses of precision\n",
    "\n",
    "Precision's dangerous edge case is that one can achieve very high precision for a category by rarely guessing it. Consider, for example, the following classifier's flawless predictions for __pos__ and __neg__. These predictions are at the expense of __neutral__, but that is such a big class that it hardly matters to the precision for that class either."
   ]
  },
  {
   "attachments": {},
   "cell_type": "markdown",
   "metadata": {},
   "source": [
    "##### Recall Score\n",
    "\n",
    "[Recall](http://scikit-learn.org/stable/modules/generated/sklearn.metrics.recall_score.html#sklearn.metrics.recall_score) is the sum of the correct predictions divided by the sum of all true instances. This is a per-class notion; in our confusion matrices, it's the diagonal values divided by the row sums. Recall is sometimes called the \"true positive rate\".\n",
    "\n",
    "It measures the proportion of actual positive cases that are correctly predicted by the model.\n",
    "\n",
    "Recall trades off against precision. \n",
    "\n",
    "It is calculated as:\n",
    "\n",
    "\n",
    "$$\n",
    "\n",
    "recall\\ score = \\frac{{TP }}{{TP + FN}}\n",
    "\n",
    "$$ \n",
    "\n",
    "\n",
    "\n",
    "\n",
    "A higher recall score indicates that the model is effectively capturing a larger proportion of the actual positive cases. It is a suitable metric when the goal is to minimize false negatives, i.e., correctly identifying as many positive cases as possible.\n",
    "\n",
    "**Recall bounds**\n",
    "\n",
    "[0, 1], with 0 the worst and 1 the best.\n",
    "\n",
    "**Value encoded by recall**\n",
    "\n",
    "Recall encodes a _permissive_ value in penalizing only missed true cases.\n",
    "\n"
   ]
  },
  {
   "cell_type": "code",
   "execution_count": 202,
   "metadata": {},
   "outputs": [],
   "source": [
    "\"\"\"\n",
    "    function to calculate recall score of each class using confusion matrix\n",
    "\n",
    "    :param a 2D confusion matrix\n",
    "\n",
    "    :return a list containing recall for each class\n",
    "\n",
    "\"\"\"\n",
    "\n",
    "\n",
    "def recall_score(confusion_matrix):\n",
    "\n",
    "    n_classes = confusion_matrix.shape[0]\n",
    "    recall_score_list = []\n",
    "\n",
    "    for i in range(n_classes):\n",
    "\n",
    "        tp = confusion_matrix[i][i]\n",
    "        fn = np.sum(confusion_matrix, axis=1)[i] - tp\n",
    "\n",
    "        recall_score_list.append(tp/(tp+fn) if tp+fn!=0 else 0)\n",
    "\n",
    "    return recall_score_list\n"
   ]
  },
  {
   "attachments": {},
   "cell_type": "markdown",
   "metadata": {},
   "source": [
    "##### Weaknesses of recall\n",
    "\n",
    "Recall's dangerous edge case is that one can achieve very high recall for a category by always guessing it. This could mean a lot of incorrect guesses, but recall sees only the correct ones. "
   ]
  },
  {
   "attachments": {},
   "cell_type": "markdown",
   "metadata": {},
   "source": [
    "##### F Scores\n",
    "[F scores](http://scikit-learn.org/stable/modules/generated/sklearn.metrics.fbeta_score.html#sklearn.metrics.fbeta_score) combine precision and recall via their harmonic mean, with a value $\\beta$ that can be used to emphasize one or the other. Like precision and recall, this is a per-category notion.\n",
    "\n",
    "It captures tradeoff between precision and recall.\n",
    "\n",
    "\n",
    "$$\n",
    "(\\beta^{2}+1) \\cdot \\frac{\\textbf{precision} \\cdot\n",
    "          \\textbf{recall}}{(\\beta^{2} \\cdot \\textbf{precision}) +\n",
    "          \\textbf{recall}}\n",
    "$$\n",
    "\n",
    "Where $\\beta=1$, we have F1:\n",
    "\n",
    "$$\n",
    "\n",
    "F-1\\ score = \\frac{{2*Precision * Recall}}{{Precision + Recall}}\n",
    "\n",
    "$$\n",
    "\n",
    "The `F1 score` is a suitable choice when both `precision` and `recall` are equally important, and we want to balance between the two. It is commonly used in classification problems where achieving a good balance between `precision` and `recall` is desired.\n",
    "\n",
    "**Bounds of F scores**\n",
    "\n",
    "[0, 1], with 0 the worst and 1 the best, and guaranteed to be between precision and recall.\n",
    "\n",
    "**Value encoded by F scores**\n",
    "\n",
    "The $F_{\\beta}$ score for a class $K$ is an attempt to summarize how well the classifier's $K$ predictions align with the true instances of $K$. Alignment brings in both missed cases and incorrect predictions. Intuitively, precision and recall keep each other in check in the calculation. This idea runs through almost all robust classification metrics.\n"
   ]
  },
  {
   "cell_type": "code",
   "execution_count": 2,
   "metadata": {},
   "outputs": [],
   "source": [
    "\"\"\"\n",
    "    function to calculate f-1 score of each class using confusion matrix\n",
    "\n",
    "    :param a 2D confusion matrix\n",
    "\n",
    "    :return a list containing f-1 score for each class\n",
    "\n",
    "\"\"\"\n",
    "\n",
    "\n",
    "def f1_score(confusion_matrix):\n",
    "\n",
    "    #get precision score for each class\n",
    "    precision_score_list = precision_score(confusion_matrix)\n",
    "\n",
    "    #get recall score for each class\n",
    "    recall_score_list = recall_score(confusion_matrix)\n",
    "\n",
    "    f1_score_list = [2*p*r/(p+r) if p+r != 0 else 0 for p, r in zip(precision_score_list,recall_score_list)]\n",
    "\n",
    "    return f1_score_list\n"
   ]
  },
  {
   "attachments": {},
   "cell_type": "markdown",
   "metadata": {},
   "source": [
    "**Weaknesses of F scores**\n",
    "\n",
    "* There is no normalization for the size of the dataset within $K$ or outside of it.\n",
    "\n",
    "* For a given category $K$, the $F_{\\beta}$ score for $K$ ignores  all the values that are off the row and column for $K$, which might be the majority of the data. This means that the individual scores for a category can be very misleading about the overall performance of the system. "
   ]
  },
  {
   "attachments": {},
   "cell_type": "markdown",
   "metadata": {},
   "source": [
    "##### Macro-averaged F scores\n",
    "\n",
    "The [macro-averaged $F_{\\beta}$ score](http://scikit-learn.org/stable/modules/model_evaluation.html#multiclass-and-multilabel-classification) (macro $F_{\\beta}$) is the mean of the $F_{\\beta}$ score for each category:"
   ]
  },
  {
   "cell_type": "code",
   "execution_count": 7,
   "metadata": {},
   "outputs": [],
   "source": [
    "def macro_f_score(cm, beta):\n",
    "    return f_score(cm, beta).mean(skipna=False)"
   ]
  },
  {
   "attachments": {},
   "cell_type": "markdown",
   "metadata": {},
   "source": [
    "**Bounds of macro-averaged F scores**\n",
    "\n",
    "[0, 1], with 0 the worst and 1 the best, and guaranteed to be between precision and recall.\n",
    "\n",
    "**Value encoded by macro-averaged F scores**\n",
    "\n",
    "Macro $F_{\\beta}$ scores inherit the values of $F_{\\beta}$ scores, and they additionally say that we care about all the classes equally regardless of their size. \n",
    "\n",
    "**Weaknesses of macro-averaged F scores**\n",
    "\n",
    "In NLP, we typically care about modeling all of the classes well, so macro-$F_{\\beta}$ scores often seem appropriate. However, this is also the source of their primary weaknesses:\n",
    "\n",
    "* If a model is doing really well on a small class $K$, its high macro $F_{\\beta}$ score might mask the fact that it mostly makes incorrect predictions outside of $K$. So $F_{\\beta}$ scoring will make this kind of classifier look better than it is.\n",
    "\n",
    "* Conversely, if a model does well on a very large class, its overall performance might be high even if it stumbles on some small classes. So $F_{\\beta}$ scoring will make this kind of classifier look worse than it is, as measured by sheer number of good predictions.\n"
   ]
  },
  {
   "attachments": {},
   "cell_type": "markdown",
   "metadata": {},
   "source": [
    "##### Weighted F scores\n",
    "\n",
    "[Weighted $F_{\\beta}$ scores](http://scikit-learn.org/stable/modules/model_evaluation.html#multiclass-and-multilabel-classification) average the per-category F$_{\\beta}$ scores, but it's a weighted average based on the size of the classes in the observed/gold data:"
   ]
  },
  {
   "cell_type": "code",
   "execution_count": 8,
   "metadata": {},
   "outputs": [],
   "source": [
    "def weighted_f_score(cm, beta):\n",
    "    scores = f_score(cm, beta=beta).values\n",
    "    weights = cm.sum(axis=1)\n",
    "    return np.average(scores, weights=weights)"
   ]
  },
  {
   "cell_type": "code",
   "execution_count": 9,
   "metadata": {},
   "outputs": [
    {
     "ename": "NameError",
     "evalue": "name 'ex3' is not defined",
     "output_type": "error",
     "traceback": [
      "\u001b[0;31m---------------------------------------------------------------------------\u001b[0m",
      "\u001b[0;31mNameError\u001b[0m                                 Traceback (most recent call last)",
      "\u001b[1;32m/Users/ajitkumarsingh/Desktop/All-About-Performance-Metrics/classification_metrics.ipynb Cell 62\u001b[0m in \u001b[0;36m<cell line: 1>\u001b[0;34m()\u001b[0m\n\u001b[0;32m----> <a href='vscode-notebook-cell:/Users/ajitkumarsingh/Desktop/All-About-Performance-Metrics/classification_metrics.ipynb#Y212sZmlsZQ%3D%3D?line=0'>1</a>\u001b[0m weighted_f_score(ex3, beta\u001b[39m=\u001b[39m\u001b[39m1.0\u001b[39m)\n",
      "\u001b[0;31mNameError\u001b[0m: name 'ex3' is not defined"
     ]
    }
   ],
   "source": [
    "weighted_f_score(ex3, beta=1.0)"
   ]
  },
  {
   "attachments": {},
   "cell_type": "markdown",
   "metadata": {},
   "source": [
    "**Bounds of weighted F scores**\n",
    "\n",
    "[0, 1], with 0 the worst and 1 the best, but without a guarantee that it will be between precision and recall.\n",
    "\n",
    "**Value encoded by weighted F scores**\n",
    "\n",
    "Weighted $F_{\\beta}$ scores inherit the values of $F_{\\beta}$ scores, and they additionally say that we want to weight the summary by the number of actual and predicted examples in each class. This will probably correspond well with how the classifier will perform, on a per example basis, on data with the same class distribution as the training data.\n",
    "\n",
    "**Weaknesses of weighted F scores**\n",
    "\n",
    "Large classes will dominate these calculations. Just like macro-averaging, this can make a classifier look artificially good or bad, depending on where its errors tend to occur."
   ]
  },
  {
   "attachments": {},
   "cell_type": "markdown",
   "metadata": {},
   "source": [
    "### Micro-averaged F scores\n",
    "\n",
    "[Micro-averaged $F_{\\beta}$ scores](http://scikit-learn.org/stable/modules/model_evaluation.html#multiclass-and-multilabel-classification) (micro $F_{\\beta}$ scores) add up the 2 $\\times$ 2 confusion matrices for each category versus the rest, and then they calculate the $F_{\\beta}$ scores, with the convention being that the positive class's $F_{\\beta}$ score is reported. "
   ]
  },
  {
   "attachments": {},
   "cell_type": "markdown",
   "metadata": {},
   "source": [
    "This function creates the 2 $\\times$ 2 matrix for a category `cat` in a confusion matrix `cm`:"
   ]
  },
  {
   "cell_type": "code",
   "execution_count": 10,
   "metadata": {},
   "outputs": [],
   "source": [
    "def cat_versus_rest(cm, cat):\n",
    "    yes = cm.loc[cat, cat]\n",
    "    yes_no = cm.loc[cat].sum() - yes\n",
    "    no_yes = cm[cat].sum() - yes\n",
    "    no = cm.values.sum() - yes - yes_no - no_yes\n",
    "    return pd.DataFrame(\n",
    "        [[yes,    yes_no],\n",
    "         [no_yes,    no]],\n",
    "        columns=['yes', 'no'],\n",
    "        index=['yes', 'no'])"
   ]
  },
  {
   "cell_type": "code",
   "execution_count": 11,
   "metadata": {},
   "outputs": [
    {
     "ename": "NameError",
     "evalue": "name 'ex1' is not defined",
     "output_type": "error",
     "traceback": [
      "\u001b[0;31m---------------------------------------------------------------------------\u001b[0m",
      "\u001b[0;31mNameError\u001b[0m                                 Traceback (most recent call last)",
      "\u001b[1;32m/Users/ajitkumarsingh/Desktop/All-About-Performance-Metrics/classification_metrics.ipynb Cell 67\u001b[0m in \u001b[0;36m<cell line: 1>\u001b[0;34m()\u001b[0m\n\u001b[0;32m----> <a href='vscode-notebook-cell:/Users/ajitkumarsingh/Desktop/All-About-Performance-Metrics/classification_metrics.ipynb#Y222sZmlsZQ%3D%3D?line=0'>1</a>\u001b[0m display(ex1)\n\u001b[1;32m      <a href='vscode-notebook-cell:/Users/ajitkumarsingh/Desktop/All-About-Performance-Metrics/classification_metrics.ipynb#Y222sZmlsZQ%3D%3D?line=1'>2</a>\u001b[0m display(cat_versus_rest(ex1, \u001b[39m'\u001b[39m\u001b[39mpos\u001b[39m\u001b[39m'\u001b[39m))\n\u001b[1;32m      <a href='vscode-notebook-cell:/Users/ajitkumarsingh/Desktop/All-About-Performance-Metrics/classification_metrics.ipynb#Y222sZmlsZQ%3D%3D?line=2'>3</a>\u001b[0m display(cat_versus_rest(ex1, \u001b[39m'\u001b[39m\u001b[39mneg\u001b[39m\u001b[39m'\u001b[39m))\n",
      "\u001b[0;31mNameError\u001b[0m: name 'ex1' is not defined"
     ]
    }
   ],
   "source": [
    "display(ex1)\n",
    "display(cat_versus_rest(ex1, 'pos'))\n",
    "display(cat_versus_rest(ex1, 'neg'))\n",
    "display(cat_versus_rest(ex1, 'neutral'))"
   ]
  },
  {
   "cell_type": "code",
   "execution_count": 12,
   "metadata": {},
   "outputs": [
    {
     "ename": "NameError",
     "evalue": "name 'ex1' is not defined",
     "output_type": "error",
     "traceback": [
      "\u001b[0;31m---------------------------------------------------------------------------\u001b[0m",
      "\u001b[0;31mNameError\u001b[0m                                 Traceback (most recent call last)",
      "\u001b[1;32m/Users/ajitkumarsingh/Desktop/All-About-Performance-Metrics/classification_metrics.ipynb Cell 68\u001b[0m in \u001b[0;36m<cell line: 1>\u001b[0;34m()\u001b[0m\n\u001b[0;32m----> <a href='vscode-notebook-cell:/Users/ajitkumarsingh/Desktop/All-About-Performance-Metrics/classification_metrics.ipynb#Y223sZmlsZQ%3D%3D?line=0'>1</a>\u001b[0m \u001b[39msum\u001b[39m([cat_versus_rest(ex1, cat) \u001b[39mfor\u001b[39;00m cat \u001b[39min\u001b[39;00m ex1\u001b[39m.\u001b[39mindex])\n",
      "\u001b[0;31mNameError\u001b[0m: name 'ex1' is not defined"
     ]
    }
   ],
   "source": [
    "sum([cat_versus_rest(ex1, cat) for cat in ex1.index])"
   ]
  },
  {
   "attachments": {},
   "cell_type": "markdown",
   "metadata": {},
   "source": [
    "For the micro $F_{\\beta}$ score, we just add up these per-category confusion matrices and calculate the $F_{\\beta}$ score:"
   ]
  },
  {
   "cell_type": "code",
   "execution_count": 13,
   "metadata": {},
   "outputs": [],
   "source": [
    "def micro_f_score(cm, beta):\n",
    "    c = sum([cat_versus_rest(cm, cat) for cat in cm.index])\n",
    "    return f_score(c, beta=beta).loc['yes']"
   ]
  },
  {
   "cell_type": "code",
   "execution_count": 14,
   "metadata": {},
   "outputs": [
    {
     "ename": "NameError",
     "evalue": "name 'ex1' is not defined",
     "output_type": "error",
     "traceback": [
      "\u001b[0;31m---------------------------------------------------------------------------\u001b[0m",
      "\u001b[0;31mNameError\u001b[0m                                 Traceback (most recent call last)",
      "\u001b[1;32m/Users/ajitkumarsingh/Desktop/All-About-Performance-Metrics/classification_metrics.ipynb Cell 71\u001b[0m in \u001b[0;36m<cell line: 1>\u001b[0;34m()\u001b[0m\n\u001b[0;32m----> <a href='vscode-notebook-cell:/Users/ajitkumarsingh/Desktop/All-About-Performance-Metrics/classification_metrics.ipynb#Y226sZmlsZQ%3D%3D?line=0'>1</a>\u001b[0m micro_f_score(ex1, beta\u001b[39m=\u001b[39m\u001b[39m1.0\u001b[39m)\n",
      "\u001b[0;31mNameError\u001b[0m: name 'ex1' is not defined"
     ]
    }
   ],
   "source": [
    "micro_f_score(ex1, beta=1.0)"
   ]
  },
  {
   "attachments": {},
   "cell_type": "markdown",
   "metadata": {},
   "source": [
    "**Bounds of micro-averaged F scores**\n",
    "\n",
    "[0, 1], with 0 the worst and 1 the best, and guaranteed to be between precision and recall.\n",
    "\n",
    "**Value encoded by micro-averaged F scores**\n",
    "\n",
    "* Micro $F_{\\beta}$ scores inherit the values of weighted $F_{\\beta}$ scores. (The resulting scores tend to be very similar.)\n",
    "\n",
    "* For two-class problems, this has an intuitive interpretation in which precision and recall are defined in terms of correct and incorrect guesses ignoring the class. \n",
    "\n",
    "**Weaknesses of micro-averaged F scores**\n",
    "\n",
    "The weaknesses too are the same as those of weighted F$_{\\beta}$ scores, with the additional drawback that we actually get two potentially very different values, for the positive and negative classes, and we have to choose one to meet our goal of having a single summary number. (See the `'yes'` in the final line of `micro_f_score`.)\n",
    "\n"
   ]
  },
  {
   "cell_type": "code",
   "execution_count": null,
   "metadata": {},
   "outputs": [],
   "source": []
  },
  {
   "attachments": {},
   "cell_type": "markdown",
   "metadata": {},
   "source": []
  },
  {
   "attachments": {},
   "cell_type": "markdown",
   "metadata": {},
   "source": [
    "##### Precision–recall curves\n",
    "\n",
    "Confusion matrices hide a threshold for turning probabilities/scores into predicted labels. With precision–recall curves, we finally address this.\n",
    "\n",
    "A precision–recall curve is a method for summarizing the relationship between precision and recall for a binary classifier. \n",
    "\n",
    "The basis for this calculation is not the confusion matrix, but rather the raw scores or probabilities returned by the classifier. Normally, we use 0.5 as the threshold for saying that a prediction is positive. However, each distinct real value in the set of predictions is a potential threshold. The precision–recall curve explores this space.\n"
   ]
  },
  {
   "attachments": {},
   "cell_type": "markdown",
   "metadata": {},
   "source": [
    "Here's a basic implementation; [the sklearn version](http://scikit-learn.org/stable/modules/generated/sklearn.metrics.precision_recall_curve.html) is more flexible and so recommended for real experimental frameworks."
   ]
  },
  {
   "cell_type": "code",
   "execution_count": 3,
   "metadata": {},
   "outputs": [],
   "source": [
    "def precision_recall_curve(y, probs):\n",
    "    \"\"\"`y` is a list of labels, and `probs` is a list of predicted\n",
    "    probabilities or predicted scores -- likely a column of the\n",
    "    output of `predict_proba` using an `sklearn` classifier.\n",
    "    \"\"\"\n",
    "    thresholds = sorted(set(probs))\n",
    "    data = []\n",
    "    for t in thresholds:\n",
    "        # Use `t` to create labels:\n",
    "        pred = [1 if p >= t else 0 for p in probs]\n",
    "        # Precision/recall analysis as usual, focused on\n",
    "        # the positive class:\n",
    "        cm = pd.DataFrame(confusion_matrix(y, pred))\n",
    "        prec = precision_score(cm)[1]\n",
    "        rec = recall_score(cm)[1]\n",
    "        data.append((t, prec, rec))\n",
    "    # For intuitive graphs, always include this end-point:\n",
    "    data.append((None, 1, 0))\n",
    "    return pd.DataFrame(\n",
    "        data, columns=['threshold', 'precision', 'recall'])"
   ]
  },
  {
   "attachments": {},
   "cell_type": "markdown",
   "metadata": {},
   "source": [
    "I'll illustrate with a hypothetical binary classification problem involving balanced classes:"
   ]
  },
  {
   "cell_type": "code",
   "execution_count": 4,
   "metadata": {},
   "outputs": [
    {
     "ename": "NameError",
     "evalue": "name 'np' is not defined",
     "output_type": "error",
     "traceback": [
      "\u001b[0;31m---------------------------------------------------------------------------\u001b[0m",
      "\u001b[0;31mNameError\u001b[0m                                 Traceback (most recent call last)",
      "\u001b[1;32m/Users/ajitkumarsingh/Desktop/All-About-Performance-Metrics/classification_metrics.ipynb Cell 61\u001b[0m in \u001b[0;36m<cell line: 1>\u001b[0;34m()\u001b[0m\n\u001b[0;32m----> <a href='vscode-notebook-cell:/Users/ajitkumarsingh/Desktop/All-About-Performance-Metrics/classification_metrics.ipynb#Y153sZmlsZQ%3D%3D?line=0'>1</a>\u001b[0m y \u001b[39m=\u001b[39m np\u001b[39m.\u001b[39mrandom\u001b[39m.\u001b[39mchoice((\u001b[39m0\u001b[39m, \u001b[39m1\u001b[39m), size\u001b[39m=\u001b[39m\u001b[39m1000\u001b[39m, p\u001b[39m=\u001b[39m(\u001b[39m0.5\u001b[39m, \u001b[39m0.5\u001b[39m))\n",
      "\u001b[0;31mNameError\u001b[0m: name 'np' is not defined"
     ]
    }
   ],
   "source": [
    "y = np.random.choice((0, 1), size=1000, p=(0.5, 0.5))"
   ]
  },
  {
   "attachments": {},
   "cell_type": "markdown",
   "metadata": {},
   "source": [
    "Suppose our classifier is generally able to distinguish the two classes, but it never predicts a value above 0.4, so our usual methods of thresholding at 0.5 would make the classifier look very bad:"
   ]
  },
  {
   "cell_type": "code",
   "execution_count": null,
   "metadata": {},
   "outputs": [],
   "source": [
    "y_pred = [np.random.uniform(0.0, 0.3) if x == 0 else np.random.uniform(0.1, 0.4)\n",
    "         for x in y]"
   ]
  },
  {
   "attachments": {},
   "cell_type": "markdown",
   "metadata": {},
   "source": [
    "The precision–recall curve can help us identify the optimal threshold given whatever our real-world goals happen to be:"
   ]
  },
  {
   "cell_type": "code",
   "execution_count": null,
   "metadata": {},
   "outputs": [],
   "source": [
    "prc = precision_recall_curve(y, y_pred)"
   ]
  },
  {
   "cell_type": "code",
   "execution_count": null,
   "metadata": {},
   "outputs": [],
   "source": [
    "def plot_precision_recall_curve(prc):\n",
    "    ax1 = prc.plot.scatter(x='recall', y='precision', legend=False)\n",
    "    ax1.set_xlim([0, 1])\n",
    "    ax1.set_ylim([0, 1.1])\n",
    "    ax1.set_ylabel(\"precision\")\n",
    "    ax2 = ax1.twiny()\n",
    "    ax2.set_xticklabels(prc['threshold'].values[::100].round(3))\n",
    "    _ = ax2.set_xlabel(\"threshold\")"
   ]
  },
  {
   "cell_type": "code",
   "execution_count": null,
   "metadata": {},
   "outputs": [],
   "source": [
    "plot_precision_recall_curve(prc)"
   ]
  },
  {
   "attachments": {},
   "cell_type": "markdown",
   "metadata": {},
   "source": [
    "**Value encoded by precision–recall curves**\n",
    "\n",
    "With precision–recall curves, we get a generalized perspective on F1 scores (and we could weight precision and recall differently to achieve the effects of `beta` for F scores more generally). These curves can be used, not only to assess a system, but also to identify an optimal decision boundary given external goals. \n",
    "\n",
    "**Weaknesses of precision–recall curves**\n",
    "\n",
    "* Most implementations are limited to binary problems. The basic concepts are defined for multi-class problems, but it's very difficult to understand the resulting hyperplanes.\n",
    "\n",
    "* There is no single statistic that does justice to the full curve, so this metric isn't useful on its own for guiding development and optimization. Indeed, opening up the decision threshold in this way really creates another hyperparameter that one has to worry about!"
   ]
  },
  {
   "attachments": {},
   "cell_type": "markdown",
   "metadata": {},
   "source": [
    "##### Average precision\n",
    "\n",
    "Average precision is a method for summarizing the precision–recall curve. It does this by calculating the average precision weighted by the change in recall from step to step along the curve. \n",
    "\n",
    "Here is the calculation in terms of the data structures returned by `precision_recall_curve` above, in which (as in sklearn) the largest recall value is first:\n",
    "\n",
    "$$\\textbf{average-precision}(r, p) = \\sum_{i=1}^{n} (r_{i} - r_{i+1})p_{i}$$\n",
    "\n",
    "where $n$ is the increasing sequence of thresholds and the precision and recall vectors $p$ and $r$ are of length $n+1$. (We insert a final pair of values $p=1$ and $r=0$ in the precision–recall curve calculation, with no threshold for that point.)"
   ]
  },
  {
   "cell_type": "code",
   "execution_count": 5,
   "metadata": {},
   "outputs": [],
   "source": [
    "def average_precision(p, r):\n",
    "    total = 0.0\n",
    "    for i in range(len(p)-1):\n",
    "        total += (r[i] - r[i+1]) * p[i]\n",
    "    return total"
   ]
  },
  {
   "cell_type": "code",
   "execution_count": 6,
   "metadata": {},
   "outputs": [
    {
     "ename": "NameError",
     "evalue": "name 'plot_precision_recall_curve' is not defined",
     "output_type": "error",
     "traceback": [
      "\u001b[0;31m---------------------------------------------------------------------------\u001b[0m",
      "\u001b[0;31mNameError\u001b[0m                                 Traceback (most recent call last)",
      "\u001b[1;32m/Users/ajitkumarsingh/Desktop/All-About-Performance-Metrics/classification_metrics.ipynb Cell 71\u001b[0m in \u001b[0;36m<cell line: 1>\u001b[0;34m()\u001b[0m\n\u001b[0;32m----> <a href='vscode-notebook-cell:/Users/ajitkumarsingh/Desktop/All-About-Performance-Metrics/classification_metrics.ipynb#Y201sZmlsZQ%3D%3D?line=0'>1</a>\u001b[0m plot_precision_recall_curve(prc)\n",
      "\u001b[0;31mNameError\u001b[0m: name 'plot_precision_recall_curve' is not defined"
     ]
    }
   ],
   "source": [
    "plot_precision_recall_curve(prc)"
   ]
  },
  {
   "attachments": {},
   "cell_type": "markdown",
   "metadata": {},
   "source": [
    "**Bounds of average precision**\n",
    "\n",
    "[0, 1], with 0 the worst and 1 the best.\n",
    "\n",
    "**Value encoded by average precision**\n",
    "\n",
    "This measure is very similar to the F1 score, in that it is seeking to balance precision and recall. Whereas the F1 score does this with the harmonic mean, average precision does it by making precision a function of recall.\n",
    "\n",
    "**Weaknesses of average precision**\n",
    "\n",
    "* An important weakness of this metric is cultural: it is often hard to tell whether a paper is reporting average precision or some interpolated variant thereof. The interpolated versions are meaningfully different and will tend to inflate scores. In any case, they are not comparable to the calculation defined above and implemented in `sklearn` as `sklearn.metrics.average_precision_score`.\n",
    "\n",
    "* Unlike for precision–recall curves, we aren't strictly speaking limited to binary classification here. Since we aren't trying to visualize anything, we can do these calculations for multi-class problems. However, then we have to decide on how the precision and recall values will be combined for each step: macro-averaged, weighted, or micro-averaged, just as with F$_{\\beta}$ scores. This introduces another meaningful design choice."
   ]
  },
  {
   "attachments": {},
   "cell_type": "markdown",
   "metadata": {},
   "source": [
    "##### Log Loss or Binary Cross Entropy\n",
    "\n",
    "Log Loss, also known as Binary Cross Entropy, is a common metric used to evaluate the performance of a model when the output is in the form of `predicted probabilities`. It is calculated as the negative average of the sum of the logarithm of the predicted probabilities for the true labels and the logarithm of the complement of the predicted probabilities for the false labels.\n",
    "\n",
    "It can be expressed as:\n",
    "$$\n",
    "Log Loss = -\\frac{1}{N}\\sum_{i=1}^{N} \\left[ y_i \\cdot \\log(p_i) + (1 - y_i) \\cdot \\log(1 - p_i) \\right]\n",
    "$$\n",
    "\n",
    "The negative sign in the Log Loss formula is used to ensure that the overall value of the metric is minimized during optimization. In other words, it is used to represent the loss or cost associated with misclassification.\n"
   ]
  },
  {
   "cell_type": "code",
   "execution_count": 282,
   "metadata": {},
   "outputs": [],
   "source": [
    "\"\"\"\n",
    "    function to calculate log loss of a model's prediction in case of binary class classification\n",
    "\n",
    "    :param a y_true - actual label and y_pred - predicted probabilties\n",
    "\n",
    "    :return log loss a singular value\n",
    "\n",
    "\"\"\"\n",
    "\n",
    "def log_loss(y_true, y_pred_prob):\n",
    "\n",
    "    #apply expression for calculating log loss\n",
    "\n",
    "    log_loss = np.average([-(y_ti*np.log(y_pi)+(1-y_ti)*np.log(1-y_pi)) for y_ti, y_pi in zip(y_true, y_pred_prob)])\n",
    "\n",
    "    return log_loss\n",
    "\n"
   ]
  },
  {
   "attachments": {},
   "cell_type": "markdown",
   "metadata": {},
   "source": [
    "##### Area Under Receiver Operating Characterstics Curve (AUROC)\n",
    "\n",
    "The Receiver Operating Characteristic (ROC) curve for a class $k$ depicts recall the __false positive rate__ (FPR) for $k$ as a function of the __recall__ for $k$. For instance, suppose we focus on $k$ as the positive class $A$:\n",
    "\n",
    "$$\n",
    "\\begin{array}{r r r}\n",
    "\\hline\n",
    " & A & B \\\\\n",
    "\\hline\n",
    "A & \\text{TP}_{A} & \\text{FN}_{A}\\\\\n",
    "B & \\text{FP}_{A} & \\text{TN}_{A}\\\\\n",
    "\\hline\n",
    "\\end{array}\n",
    "$$\n",
    "\n",
    "The false positive rate is \n",
    "\n",
    "$$\n",
    "\\textbf{fpr}(A) = \\frac{\\text{FP}_{A}}{\\text{FP}_{A} + \\text{TN}_{A}}\n",
    "$$\n",
    "\n",
    "which is equivalent to 1 minus the recall for $B$ class. \n",
    "This Indicates how well probabilities from positive class are seperated from negative class.\n",
    "\n",
    "ROC summarizes models performance by evaluating the trade off TPR(sensitivity) and FPR(1-specificity).\n",
    "\n",
    "\n",
    "The ROC curve is a probability curve, and for an ideal model, the area under the ROC curve would be 1, indicating perfect classification performance. The interpretation of AUROC is as follows:\n",
    "\n",
    "- AUC is `0.x`, It means there is `10x%` chance of fair classification.\n",
    "\n",
    "It's important to note that the AUROC is commonly used for binary class classification problems. For multiclass classification, there would be `N` number of AUROC curves using the `one vs rest` methodology, where each class is compared against the rest of the classes separately.\n",
    "\n"
   ]
  },
  {
   "attachments": {},
   "cell_type": "markdown",
   "metadata": {},
   "source": [
    "**Bounds of ROC**\n",
    "\n",
    "* For individual ROC calculations of recall divided fpr: [0, $\\infty$), with larger better.\n",
    "* For ROC AUC: [0, 1], with 1 the best.\n",
    "\n",
    "**Weaknesses of ROC**\n",
    "\n",
    "Recall that, for two classes $A$ and $B$, \n",
    "\n",
    "$$\n",
    "\\begin{array}{r r r}\n",
    "\\hline\n",
    " & A & B \\\\\n",
    "\\hline\n",
    "A & \\text{TP}_{A} & \\text{FN}_{A}\\\\\n",
    "B & \\text{FP}_{A} & \\text{TN}_{B}\\\\\n",
    "\\hline\n",
    "\\end{array}\n",
    "$$\n",
    "\n",
    "we can express ROC as comparing $\\textbf{recall}(A)$ with $1.0 - \\textbf{recall}(B)$.\n",
    "\n",
    "This reveals a point of contrast with scores based in precision and recall: the entire table is used, whereas precision and recall for a class $k$ ignore the $\\text{TN}_{k}$ values. Thus, whereas precision and recall for a class $k$ will be insensitive to changes in $\\text{TN}_{k}$, ROC will be affected by such changes. The following individual ROC calculations help to bring this out:\n",
    "\n",
    "$$\n",
    "\\begin{array}{r r r r r}\n",
    "\\hline\n",
    " & A & B & \\textbf{F1} & \\textbf{ROC}\\\\\n",
    "\\hline\n",
    "A & 15 & 10 & 0.21 & 0.90 \\\\\n",
    "B & 100 & {\\color{blue}{50}} & 0.48 & 0.83 \\\\\n",
    "\\hline\n",
    "\\end{array}\n",
    "\\qquad\n",
    "\\begin{array}{r r r r r}\n",
    "\\hline\n",
    " & A & B & \\textbf{F1} & \\textbf{ROC} \\\\\n",
    "\\hline\n",
    "A & 15 & 10 & 0.21 & 3.6 \\\\\n",
    "B & 100 & {\\color{blue}{500}} & 0.90 & 2.08  \\\\\n",
    "\\hline\n",
    "\\end{array}\n",
    "$$\n",
    "\n",
    "One might worry that the model on the right isn't better at identifying class $A$, even though its ROC value for $A$ is larger."
   ]
  },
  {
   "attachments": {},
   "cell_type": "markdown",
   "metadata": {},
   "source": [
    "Calculate False positive and True positive rates"
   ]
  },
  {
   "cell_type": "code",
   "execution_count": 274,
   "metadata": {},
   "outputs": [],
   "source": [
    "\"\"\"\n",
    "    Calculate True Positive Rate (TPR) and False Positive Rate (FPR) for different thresholds in case of binary class problems\n",
    "\n",
    "    Args:\n",
    "        y_true (array-like): Actual labels (ground truth).\n",
    "        y_pred_prob (array-like): Predicted probabilities for positive class.\n",
    "\n",
    "    Returns:\n",
    "        tuple: A tuple containing two lists - TPR (True Positive Rate) and FPR (False Positive Rate)\n",
    "              for each threshold.\n",
    "\"\"\"\n",
    "\n",
    "def get_fpr_tpr(y_true, y_pred_prob):\n",
    "\n",
    "    #stores tpr and fpr at different thresholds\n",
    "    tprs = []\n",
    "    fprs = []\n",
    "    \n",
    "    #sort y_pred_prob in decreasing order\n",
    "    # First sort indices in descending order\n",
    "    sort_indices = np.argsort(y_pred_prob)[::-1]  \n",
    "    # Sort y_score array\n",
    "    y_score_sorted = y_pred_prob[sort_indices]  \n",
    "    # Rearrange y_true array to match sorted order of y_score\n",
    "    y_true_sorted = y_true[sort_indices]  \n",
    "\n",
    "    #derive classification threshold from y_pred_prob\n",
    "    thresholds = np.sort(list(set(y_pred_prob)))[::-1]\n",
    "    \n",
    "    for threshold in thresholds:\n",
    "        \n",
    "        y_pred = [y_p > threshold for y_p in y_score_sorted]\n",
    "\n",
    "        conf_mat = confusion_matrix(y_true_sorted, y_pred, list(set(y_true_sorted)))\n",
    "        \n",
    "        #using confusion matrix we can define tp, fp and hence tpr and fpr\n",
    "        tp = conf_mat[1][1]\n",
    "        fp = conf_mat[0][1]\n",
    "        fn = conf_mat[1][0]\n",
    "        tn = conf_mat[0][0]\n",
    "\n",
    "        tpr = tp/(tp+fn) if tp+fn != 0 else 1\n",
    "        fpr = fp/(fp+tn) if fp+tn != 0 else 1\n",
    "\n",
    "        #append the above values\n",
    "        tprs.append(tpr)\n",
    "        fprs.append(fpr)\n",
    "    \n",
    "    return fprs, tprs\n",
    "    "
   ]
  },
  {
   "attachments": {},
   "cell_type": "markdown",
   "metadata": {},
   "source": [
    "Find Area Under Curve (AUC)"
   ]
  },
  {
   "cell_type": "code",
   "execution_count": 264,
   "metadata": {},
   "outputs": [],
   "source": [
    "\"\"\"\n",
    "    Find Area Under ROC Curve\n",
    "\n",
    "    Args:\n",
    "        tprs (list of tpr at different thresholds)\n",
    "        fprs (list of fpr at different thresholds)\n",
    "\n",
    "    Returns:\n",
    "        a number - area under roc curve\n",
    "\"\"\"\n",
    "\n",
    "def auc_roc(fpr, tpr):\n",
    "    \n",
    "    #use trapezoidal rule to find area\n",
    "    auc = np.trapz(fpr, tpr)\n",
    "    \n",
    "    return auc\n"
   ]
  },
  {
   "attachments": {},
   "cell_type": "markdown",
   "metadata": {},
   "source": [
    "Plot ROC Curve\n",
    "\n"
   ]
  },
  {
   "cell_type": "code",
   "execution_count": 265,
   "metadata": {},
   "outputs": [],
   "source": [
    "\"\"\"\n",
    "    Plot ROC curve \n",
    "\n",
    "    Args:\n",
    "        tprs (list): true positive rates(recall/sensitivity)\n",
    "        fprs (list): false positive rates(1-specificity)\n",
    "\n",
    "    Returns:\n",
    "        None\n",
    "\"\"\"\n",
    "\n",
    "def plot_roc(fpr, tpr, model_name=\"Logistic Regressor\"):\n",
    "    \n",
    "    #get area under the curve\n",
    "    area_under_roc = auc_roc(fpr, tpr)\n",
    "    #define fig size\n",
    "    plt.figure(figsize=(8, 6))\n",
    "    plt.plot(fpr, tpr, color='darkorange', lw=2, label='ROC curve (area = %0.2f)' % area_under_roc)\n",
    "    plt.plot([0, 1], [0, 1], color='navy', lw=2, linestyle='--')\n",
    "\n",
    "    #set x and y limit\n",
    "    plt.xlim([0.0, 1.0])\n",
    "    plt.ylim([0.0, 1.05])\n",
    "\n",
    "    #put headings\n",
    "    plt.xlabel('False Positive Rate (FPR)')\n",
    "    plt.ylabel('True Positive Rate (TPR)')\n",
    "    plt.title('Receiver Operating Characteristic (ROC) Curve for ' + model_name)\n",
    "    plt.legend(loc=\"lower right\")\n",
    "\n",
    "    plt.show()\n",
    "\n",
    "\n"
   ]
  },
  {
   "attachments": {},
   "cell_type": "markdown",
   "metadata": {},
   "source": [
    "### Model Prediction\n",
    "\n",
    "Now we have defined the performance metrics, we can use them to evaluate the model predctions.\n",
    "\n",
    "From Train/Test Split Section we have :\n",
    "\n",
    "- `train_data`, `test_data`, `train_labels` and `test_labels` we can use them for models performance evaluations.\n",
    "\n",
    "From Model Training section we have : \n",
    "\n",
    "- trained instances of `SVM classifier`, `Logestic Regressor`, `Random Forest Classifier` and `Nearest Neighbour Classifier` in `model_instances` dictionary. We need to feed the test data to these instances  to get the predictions"
   ]
  },
  {
   "cell_type": "code",
   "execution_count": 246,
   "metadata": {},
   "outputs": [],
   "source": [
    "\"\"\"\n",
    "    get predictions from test instances\n",
    "\n",
    "    Args:\n",
    "        trained_model () : trained instance\n",
    "        test_data (pandas dataframe) : testing data without label\n",
    "\n",
    "    Returns:\n",
    "        list of predictions against each row in test data\n",
    "\"\"\"\n",
    "\n",
    "\n",
    "def make_predictions(trained_model, test_data):\n",
    "\n",
    "    return trained_model.predict(test_data)\n",
    "\n",
    "    "
   ]
  },
  {
   "cell_type": "code",
   "execution_count": 247,
   "metadata": {},
   "outputs": [],
   "source": [
    "#store predictions against each model\n",
    "\n",
    "y_pred_per_model = {}\n",
    "\n",
    "for model_name, model_instance in model_instances.items():\n",
    "    \n",
    "    y_pred_per_model[model_name] = make_predictions(model_instance, test_data) \n"
   ]
  },
  {
   "attachments": {},
   "cell_type": "markdown",
   "metadata": {},
   "source": [
    "We have stored model name and it's predictions over test data in `y_pred_per_model` and we have also `test_labels` which is like ground truths."
   ]
  },
  {
   "attachments": {},
   "cell_type": "markdown",
   "metadata": {},
   "source": [
    "### Model Evaluation\n",
    "\n",
    "This is like the last step we need to perform to compare which classification algorithm is performating relatively better over test distribution. In the above sctions, We are done with implementaion of performance metrics now we can use to evaluate the trained models."
   ]
  },
  {
   "attachments": {},
   "cell_type": "markdown",
   "metadata": {},
   "source": [
    "#### Plotting Confusion Matrix\n",
    "\n",
    "For each model, let's plot the confusion matrix separately."
   ]
  },
  {
   "cell_type": "code",
   "execution_count": 286,
   "metadata": {},
   "outputs": [],
   "source": [
    "\n",
    "def plot_cm(conf_matrix, model_name, labels, ax):\n",
    "\n",
    "    # visualize the confusion matrix\n",
    "    ax.imshow(conf_matrix, cmap='Greens')\n",
    "    ax.set_title('Confusion Matrix for '+model_name)\n",
    "    ax.set_xticks(np.arange(2))\n",
    "    ax.set_yticks(np.arange(2))\n",
    "    ax.set_xticklabels(labels)\n",
    "    ax.set_yticklabels(labels)\n",
    "    ax.set_ylabel('True Label')\n",
    "    ax.set_xlabel('Predicted Label')\n",
    "    \n",
    "    #make sure score are align properly in graph\n",
    "    for i in range(2):\n",
    "        for j in range(2):\n",
    "            ax.text(j, i, int(conf_matrix[i, j]), ha='center', va='center', color='red')"
   ]
  },
  {
   "cell_type": "code",
   "execution_count": 287,
   "metadata": {},
   "outputs": [
    {
     "data": {
      "image/png": "[encoded data removed]",
      "text/plain": [
       "<Figure size 864x576 with 4 Axes>"
      ]
     },
     "metadata": {
      "needs_background": "light"
     },
     "output_type": "display_data"
    }
   ],
   "source": [
    "#plot 2 graphs per row\n",
    "# Calculate number of rows and columns for subplots\n",
    "num_models = len(y_pred_per_model)\n",
    "num_rows = num_models // 2 + num_models % 2\n",
    "num_cols = 2\n",
    "\n",
    "# Create subplots with num_rows rows and num_cols columns\n",
    "fig, axes = plt.subplots(num_rows, num_cols, figsize=(12, 4*num_rows))\n",
    "\n",
    "# Iterate over models and plot confusion matrix\n",
    "for i, (model_name, y_pred) in enumerate(y_pred_per_model.items()):\n",
    "    row_idx = i // num_cols\n",
    "    col_idx = i % num_cols\n",
    "    cm = confusion_matrix(list(test_labels), y_pred, list(set(test_labels)))\n",
    "    plot_cm(cm, model_name, [\"Not Churn\", \"Churn\"], axes[row_idx, col_idx])\n",
    "\n",
    "# Adjust spacing between subplots\n",
    "plt.subplots_adjust(wspace=0.5, hspace=0.5)\n",
    "plt.show()"
   ]
  },
  {
   "attachments": {},
   "cell_type": "markdown",
   "metadata": {},
   "source": [
    "Above plots are showing confusion matrix for different models. Using these plots we can deduce various scores against each model and then we can make comparision as well. \n",
    "\n",
    "**Note** that in this notebook, I am illustrating how can we implement several performance metrics for classification problems and how can we interpret the results. So, we are not concerned by how well a model is performing and about hyperparameters tuning."
   ]
  },
  {
   "attachments": {},
   "cell_type": "markdown",
   "metadata": {},
   "source": [
    "#### Classification Report\n",
    "\n",
    "For each model, we can display a report kind of structure which consists of `class` and its `accuracy score`\n",
    ", `precision score`, `recall score`, `F-1 score` and `support`."
   ]
  },
  {
   "cell_type": "code",
   "execution_count": 248,
   "metadata": {},
   "outputs": [
    {
     "name": "stdout",
     "output_type": "stream",
     "text": [
      "Classification Report For logistic_regressor \n",
      "\n",
      "Class                Accuracy        Precision       Recall          F1-Score        Support        \n",
      "Not Churn            0.7865          0.8117          0.9788          0.8874          1607.0         \n",
      "Churn                0.0140          0.4516          0.0712          0.1231          393.0          \n",
      "\n",
      "\n",
      "Classification Report For random_forest \n",
      "\n",
      "Class                Accuracy        Precision       Recall          F1-Score        Support        \n",
      "Not Churn            0.7735          0.8800          0.9627          0.9195          1607.0         \n",
      "Churn                0.0910          0.7521          0.4631          0.5732          393.0          \n",
      "\n",
      "\n",
      "Classification Report For knn \n",
      "\n",
      "Class                Accuracy        Precision       Recall          F1-Score        Support        \n",
      "Not Churn            0.7455          0.8073          0.9278          0.8633          1607.0         \n",
      "Churn                0.0185          0.2418          0.0941          0.1355          393.0          \n",
      "\n",
      "\n",
      "Classification Report For svm \n",
      "\n",
      "Class                Accuracy        Precision       Recall          F1-Score        Support        \n",
      "Not Churn            0.8035          0.8035          1.0000          0.8910          1607.0         \n",
      "Churn                0.0000          0.0000          0.0000          0.0000          393.0          \n",
      "\n",
      "\n"
     ]
    }
   ],
   "source": [
    "\n",
    "#iterate over y_pred_per_model dict and each model let's build this classification report\n",
    "\n",
    "y_true = np.array(test_labels)\n",
    "labels_encoded = {0:'Not Churn', 1:'Churn'}\n",
    "\n",
    "for model_name, y_pred in y_pred_per_model.items():\n",
    "\n",
    "    print(f\"Classification Report For {model_name} \\n\")\n",
    "\n",
    "    cm = confusion_matrix(list(test_labels), y_pred, list(set(test_labels)))\n",
    "\n",
    "    #get number of distinct labels\n",
    "    n_labels = cm.shape[0]\n",
    "\n",
    "    #using confusion matrix get following score\n",
    "    precision = precision_score(cm)\n",
    "    recall = recall_score(cm)\n",
    "    accuracy = accuracy_score(cm)\n",
    "    f_1 = f1_score(cm)\n",
    "    support = np.sum(cm, axis=1)\n",
    "    \n",
    "    #print the values\n",
    "    print(\"{:<20} {:<15} {:<15} {:<15} {:<15} {:<15}\".format(\"Class\", \"Accuracy\", \"Precision\", \"Recall\", \"F1-Score\", \"Support\"))\n",
    "\n",
    "    #loop over each label and print the corresponding score\n",
    "    for label in range(n_labels):\n",
    "        print(\"{:<20} {:<15.4f} {:<15.4f} {:<15.4f} {:<15.4f} {:<15}\".format(labels_encoded[label], accuracy[label], precision[label], recall[label], f_1[label], support[label]))\n",
    "    \n",
    "    print(\"\\n\")\n",
    "\n",
    "\n"
   ]
  },
  {
   "attachments": {},
   "cell_type": "markdown",
   "metadata": {},
   "source": [
    "Given that the dataset has imbalanced distributions with `393` positive classes and `1607` negative classes, relying solely on accuracy score to evaluate model performance is inadequate. Other metrics, such as the `F-1` score, which considers both precision and recall, are more appropriate for performance measurement.\n",
    "\n",
    "From the Classification Report, it is evident that the Random Forest algorithm outperforms the other algorithms in terms of `F-1` score. \n",
    "\n",
    "**Note** that the choice of metrics depends on the specific problem and its business impact. What may be the best metric for one problem may not necessarily be suitable for another. Therefore, careful consideration of the problem and its implications is crucial in selecting the appropriate evaluation metric for the given scenario.\n"
   ]
  },
  {
   "attachments": {},
   "cell_type": "markdown",
   "metadata": {},
   "source": [
    "#### Plotting ROC Curve\n",
    "\n",
    "As we discussed earlier ROC curve is a probabilistic curve and it can be used when you have a predictive model which ouput probabilities against each label instead of the value of actual label.\n",
    "\n",
    "Among selected algorithms we have right now `Logistic Regressor` can be used to produce associated probabilities against each class. In `sklearn` we have `predict_proba` method we can use it to get assigned probabilities to each label.\n",
    "\n",
    "For getting `True Positive Rate(TPR)` and `False Positive Rate(FPR)` we have already defined `get_tpr_fpr` in the above section and, for plotting the ROC curve we have defined `plot_roc` function."
   ]
  },
  {
   "cell_type": "code",
   "execution_count": 267,
   "metadata": {},
   "outputs": [
    {
     "data": {
      "image/png": "[encoded data removed]",
      "text/plain": [
       "<Figure size 576x432 with 1 Axes>"
      ]
     },
     "metadata": {
      "needs_background": "light"
     },
     "output_type": "display_data"
    }
   ],
   "source": [
    "#get trained insatnce of LR\n",
    "\n",
    "lr = model_instances['logistic_regressor']\n",
    "\n",
    "#use predict proba to get assigned probabilities over test data\n",
    "y_pred_prob = lr.predict_proba(test_data)\n",
    "y_true = np.array(test_labels)\n",
    "\n",
    "#get fpr and tpr using y_pred_prob and y_true \n",
    "fpr, tpr = get_fpr_tpr(y_true, y_pred_prob[:, 0]) # for only positive class\n",
    "\n",
    "\n",
    "#plot the roc \n",
    "plot_roc(fpr, tpr)\n"
   ]
  },
  {
   "attachments": {},
   "cell_type": "markdown",
   "metadata": {},
   "source": [
    "#### Log Loss/ Binary cross entropy loss calculation"
   ]
  },
  {
   "cell_type": "code",
   "execution_count": 283,
   "metadata": {},
   "outputs": [
    {
     "data": {
      "text/plain": [
       "0.469983074748027"
      ]
     },
     "execution_count": 283,
     "metadata": {},
     "output_type": "execute_result"
    }
   ],
   "source": [
    "#get trained insatnce of LR\n",
    "\n",
    "lr = model_instances['logistic_regressor']\n",
    "\n",
    "#use predict proba to get assigned probabilities over test data\n",
    "y_pred_prob = lr.predict_proba(test_data)\n",
    "y_true = np.array(test_labels)\n",
    "log_loss(y_true, y_pred_prob[:,1])\n"
   ]
  },
  {
   "attachments": {},
   "cell_type": "markdown",
   "metadata": {},
   "source": [
    "This is all about performance evaluation metrics in case of classification related use cases. I have tried to implement everything related with metrics from scratch. The list of metrics mentions here is not exhaustive there a lot of metrics as well. I have mentioned most frquent metrics that we use across all type of problems.\n",
    "\n",
    "In this notebook we covered following topics:\n",
    "\n",
    " - Confusion Matrix \n",
    " - Accuracy Score\n",
    " - Precision Score\n",
    " - F-1 Score\n",
    " - Recall Score\n",
    " - Log Loss/ Binary Cross Entropy Loss\n",
    " - Area Under ROC curve\n",
    " -  Classification report"
   ]
  }
 ],
 "metadata": {
  "kernelspec": {
   "display_name": "base",
   "language": "python",
   "name": "python3"
  },
  "language_info": {
   "codemirror_mode": {
    "name": "ipython",
    "version": 3
   },
   "file_extension": ".py",
   "mimetype": "text/x-python",
   "name": "python",
   "nbconvert_exporter": "python",
   "pygments_lexer": "ipython3",
   "version": "3.9.12"
  },
  "orig_nbformat": 4
 },
 "nbformat": 4,
 "nbformat_minor": 2
}
